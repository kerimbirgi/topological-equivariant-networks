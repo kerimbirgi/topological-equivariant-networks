{
 "cells": [
  {
   "cell_type": "code",
   "execution_count": 2,
   "id": "77d16070-24b3-420a-af97-9813e2a34c99",
   "metadata": {},
   "outputs": [],
   "source": [
    "from omegaconf import DictConfig, OmegaConf\n",
    "from etnn.bindingnet.bindingnetcc import BindingNetCC\n",
    "import utils\n",
    "import os\n",
    "import pandas as pd\n",
    "from torch_geometric.loader import DataLoader\n",
    "import torch\n",
    "from etnn.combinatorial_data import CombinatorialComplexData\n",
    "from preprocess.single_graph_processing import (\n",
    "    process_ligand_sdf,\n",
    "    process_protein_pdb_ligand_style,\n",
    "    merge_ligand_and_protein,\n",
    ")"
   ]
  },
  {
   "cell_type": "code",
   "execution_count": 4,
   "id": "b2431308-e715-488e-9773-fc6fdab3fc69",
   "metadata": {},
   "outputs": [],
   "source": [
    "data_root = \"data/bindingnetcc\"\n",
    "base_graphs_path = os.path.join(data_root, \"subset_20p_base_graphs/preprocessed\")\n",
    "rcut3_path = os.path.join(data_root, \"subset_20p_no_supercell_crossconnect_rcut_3/processed/merged_lifted.pt\")\n",
    "no_cross_connect_path = os.path.join(data_root, \"subset_20p_no_supercell_no_connect_cross_self/processed/merged_lifted.pt\")"
   ]
  },
  {
   "cell_type": "code",
   "execution_count": 6,
   "id": "c84e2577-37c7-406b-a667-14e4f0412033",
   "metadata": {},
   "outputs": [],
   "source": [
    "no_cross_graphs = torch.load(no_cross_connect_path, weights_only=False)"
   ]
  },
  {
   "cell_type": "code",
   "execution_count": 19,
   "id": "60d610a6-fe86-4904-96ee-976ed3d2c687",
   "metadata": {},
   "outputs": [
    {
     "name": "stdout",
     "output_type": "stream",
     "text": [
      "dict_keys(['pos', 'cells_0', 'slices_0', 'cells_1', 'slices_1', 'x_0', 'x_1', 'mem_0', 'mem_1', 'adj_0_0_1', 'y'])\n",
      "dict_keys(['pos', 'cells_0', 'slices_0', 'cells_1', 'slices_1', 'x_0', 'x_1', 'mem_0', 'mem_1', 'adj_0_0_1', 'y'])\n"
     ]
    }
   ],
   "source": [
    "print(no_cross_graphs[0].keys())\n",
    "print(no_cross_graphs[1].keys())"
   ]
  },
  {
   "cell_type": "code",
   "execution_count": 20,
   "id": "9491a0d7-89d3-43f8-a4d8-45f67fd1e663",
   "metadata": {},
   "outputs": [],
   "source": [
    "rcut3_path = torch.load(rcut3_path, weights_only=False)"
   ]
  },
  {
   "cell_type": "code",
   "execution_count": 21,
   "id": "d1c908e9-f99f-4390-977a-6115c6948762",
   "metadata": {},
   "outputs": [
    {
     "name": "stdout",
     "output_type": "stream",
     "text": [
      "3\n"
     ]
    }
   ],
   "source": [
    "print(len(rcut3_path))"
   ]
  },
  {
   "cell_type": "code",
   "execution_count": 22,
   "id": "a8408179-3ec5-4bb9-947f-88a78d6dae39",
   "metadata": {},
   "outputs": [],
   "source": [
    "rcut3_prelift_path = os.path.join(data_root, \"subset_20p_no_supercell_crossconnect_rcut_3/preprocessed/merged\")"
   ]
  },
  {
   "cell_type": "code",
   "execution_count": 24,
   "id": "bd5a024c-946a-4015-b972-24e7dd225793",
   "metadata": {},
   "outputs": [
    {
     "name": "stdout",
     "output_type": "stream",
     "text": [
      "137515\n"
     ]
    }
   ],
   "source": [
    "rcut3_merged_count = len(os.listdir(rcut3_prelift_path))\n",
    "print(rcut3_merged_count)"
   ]
  },
  {
   "cell_type": "code",
   "execution_count": null,
   "id": "988c1fb0-46ca-40f7-8a5a-d81f1dc87be8",
   "metadata": {},
   "outputs": [],
   "source": []
  }
 ],
 "metadata": {
  "kernelspec": {
   "display_name": "etnn-ipykernel",
   "language": "python",
   "name": "etnn-ipykernel"
  },
  "language_info": {
   "codemirror_mode": {
    "name": "ipython",
    "version": 3
   },
   "file_extension": ".py",
   "mimetype": "text/x-python",
   "name": "python",
   "nbconvert_exporter": "python",
   "pygments_lexer": "ipython3",
   "version": "3.10.18"
  }
 },
 "nbformat": 4,
 "nbformat_minor": 5
}
