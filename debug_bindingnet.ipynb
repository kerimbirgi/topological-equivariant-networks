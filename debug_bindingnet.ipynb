{
 "cells": [
  {
   "cell_type": "code",
   "execution_count": 25,
   "id": "77d16070-24b3-420a-af97-9813e2a34c99",
   "metadata": {},
   "outputs": [],
   "source": [
    "import utils\n",
    "import os\n",
    "import pandas as pd\n",
    "import torch\n",
    "import numpy as np\n",
    "from visualize import visualize_pt_graph"
   ]
  },
  {
   "cell_type": "code",
   "execution_count": 2,
   "id": "b2431308-e715-488e-9773-fc6fdab3fc69",
   "metadata": {},
   "outputs": [],
   "source": [
    "data_root = \"data/bindingnetcc\"\n",
    "base_graphs_path = os.path.join(data_root, \"subset_20p_base_graphs/preprocessed\")\n",
    "rcut3_path = os.path.join(data_root, \"subset_20p_no_supercell_crossconnect_rcut_3/processed/merged_lifted.pt\")\n",
    "no_cross_connect_path = os.path.join(data_root, \"subset_20p_no_supercell_no_connect_cross_self/processed/merged_lifted.pt\")"
   ]
  },
  {
   "cell_type": "code",
   "execution_count": null,
   "id": "9491a0d7-89d3-43f8-a4d8-45f67fd1e663",
   "metadata": {},
   "outputs": [],
   "source": [
    "rcut3_graphs = torch.load(rcut3_path, weights_only=False)"
   ]
  },
  {
   "cell_type": "code",
   "execution_count": null,
   "id": "d1c908e9-f99f-4390-977a-6115c6948762",
   "metadata": {},
   "outputs": [],
   "source": [
    "print(len(rcut3_graphs))"
   ]
  },
  {
   "cell_type": "code",
   "execution_count": null,
   "id": "a8408179-3ec5-4bb9-947f-88a78d6dae39",
   "metadata": {},
   "outputs": [],
   "source": [
    "rcut3_prelift_path = os.path.join(data_root, \"subset_20p_no_supercell_crossconnect_rcut_3/preprocessed/merged\")"
   ]
  },
  {
   "cell_type": "code",
   "execution_count": null,
   "id": "bd5a024c-946a-4015-b972-24e7dd225793",
   "metadata": {},
   "outputs": [],
   "source": [
    "rcut3_merged_count = len(os.listdir(rcut3_prelift_path))\n",
    "print(rcut3_merged_count)"
   ]
  },
  {
   "cell_type": "code",
   "execution_count": null,
   "id": "988c1fb0-46ca-40f7-8a5a-d81f1dc87be8",
   "metadata": {},
   "outputs": [],
   "source": [
    "index = pd.read_csv(\"/rds/general/user/kgb24/ephemeral/BindingNetv2/processed/indexes/Index_BindingNetv2_pockets_subset_20p.csv\")\n",
    "print(len(index))"
   ]
  },
  {
   "cell_type": "code",
   "execution_count": null,
   "id": "0facd4d3-1cff-4937-86a7-4e086cdfc864",
   "metadata": {},
   "outputs": [],
   "source": [
    "no_cross_graphs_prelift_path = os.path.join(data_root, \"subset_20p_no_supercell_no_connect_cross_self/preprocessed/merged\")\n",
    "no_cross_merged_path = os.listdir(no_cross_graphs_prelift_path)\n",
    "no_cross_merged_count = len(no_cross_merged_path)\n",
    "print(no_cross_merged_count)"
   ]
  },
  {
   "cell_type": "code",
   "execution_count": null,
   "id": "dff3c714-5c41-4254-a20b-1e7f4cbacf95",
   "metadata": {},
   "outputs": [],
   "source": [
    "no_cross_to_visualize = os.path.join(no_cross_graphs_prelift_path, no_cross_merged_path[0])\n",
    "visualize_pt_graph(no_cross_to_visualize, \"2d\")"
   ]
  },
  {
   "cell_type": "code",
   "execution_count": null,
   "id": "6bdd6dab-f9e2-402c-be6f-996faf95b2da",
   "metadata": {},
   "outputs": [],
   "source": [
    "rcut3_graphs_prelift_path = os.path.join(data_root, \"subset_20p_no_supercell_crossconnect_rcut_3/preprocessed/merged\")\n",
    "rcut3_merged_path = os.listdir(rcut3_graphs_prelift_path)\n",
    "rcut3_merged_count = len(rcut3_merged_path)\n",
    "print(rcut3_merged_count)"
   ]
  },
  {
   "cell_type": "code",
   "execution_count": null,
   "id": "deead003-8963-403e-9b8c-220d98caaf1d",
   "metadata": {},
   "outputs": [],
   "source": [
    "rcut3_to_visualize = os.path.join(rcut3_graphs_prelift_path, rcut3_merged_path[0])\n",
    "visualize_pt_graph(rcut3_to_visualize, \"2d\")"
   ]
  },
  {
   "cell_type": "code",
   "execution_count": 3,
   "id": "ae9d9e20-e83a-4a1f-a7fb-7d91ba774aca",
   "metadata": {},
   "outputs": [],
   "source": [
    "no_connect_cross_lifted_path = \"data/bindingnetcc/subset_20p_no_supercell_no_connect_cross_self/processed/merged_lifted.pt\"\n",
    "no_cross_graphs = torch.load(no_connect_cross_lifted_path, weights_only=False)"
   ]
  },
  {
   "cell_type": "code",
   "execution_count": 7,
   "id": "e5039a35-790a-41d2-a7c9-9bab27b3389b",
   "metadata": {},
   "outputs": [
    {
     "name": "stdout",
     "output_type": "stream",
     "text": [
      "no_cross_graphs[0]\n",
      "dict_keys(['pos', 'cells_0', 'slices_0', 'cells_1', 'slices_1', 'x_0', 'x_1', 'mem_0', 'mem_1', 'adj_0_0_1', 'id', 'y'])\n",
      "key pos has length: 51064333 and type <class 'torch.Tensor'>\n",
      "key cells_0 has length: 51064333 and type <class 'torch.Tensor'>\n",
      "key slices_0 has length: 51064333 and type <class 'torch.Tensor'>\n",
      "key cells_1 has length: 94548450 and type <class 'torch.Tensor'>\n",
      "key slices_1 has length: 47274225 and type <class 'torch.Tensor'>\n",
      "key x_0 has length: 51064333 and type <class 'torch.Tensor'>\n",
      "key x_1 has length: 47274225 and type <class 'torch.Tensor'>\n",
      "key mem_0 has length: 51064333 and type <class 'torch.Tensor'>\n",
      "key mem_1 has length: 47274225 and type <class 'torch.Tensor'>\n",
      "key adj_0_0_1 has length: 2 and type <class 'torch.Tensor'>\n",
      "key id has length: 137515 and type <class 'list'>\n",
      "key y has length: 137515 and type <class 'torch.Tensor'>\n",
      "\n",
      "no_cross_graphs[1]\n",
      "dict_keys(['pos', 'cells_0', 'slices_0', 'cells_1', 'slices_1', 'x_0', 'x_1', 'mem_0', 'mem_1', 'adj_0_0_1', 'id', 'y'])\n",
      "key pos has length: 137516 and type <class 'torch.Tensor'>\n",
      "key cells_0 has length: 137516 and type <class 'torch.Tensor'>\n",
      "key slices_0 has length: 137516 and type <class 'torch.Tensor'>\n",
      "key cells_1 has length: 137516 and type <class 'torch.Tensor'>\n",
      "key slices_1 has length: 137516 and type <class 'torch.Tensor'>\n",
      "key x_0 has length: 137516 and type <class 'torch.Tensor'>\n",
      "key x_1 has length: 137516 and type <class 'torch.Tensor'>\n",
      "key mem_0 has length: 137516 and type <class 'torch.Tensor'>\n",
      "key mem_1 has length: 137516 and type <class 'torch.Tensor'>\n",
      "key adj_0_0_1 has length: 137516 and type <class 'torch.Tensor'>\n",
      "key id has length: 137516 and type <class 'torch.Tensor'>\n",
      "key y has length: 137516 and type <class 'torch.Tensor'>\n"
     ]
    }
   ],
   "source": [
    "print(\"no_cross_graphs[0]\")\n",
    "print(no_cross_graphs[0].keys())\n",
    "for key in no_cross_graphs[0]:\n",
    "    print(f\"key {key} has length: {len(no_cross_graphs[0][key])} and type {type(no_cross_graphs[0][key])}\")\n",
    "\n",
    "print(\"\\nno_cross_graphs[1]\")\n",
    "print(no_cross_graphs[1].keys())\n",
    "for key in no_cross_graphs[1]:\n",
    "    print(f\"key {key} has length: {len(no_cross_graphs[1][key])} and type {type(no_cross_graphs[1][key])}\")"
   ]
  },
  {
   "cell_type": "code",
   "execution_count": 9,
   "id": "3757d622",
   "metadata": {},
   "outputs": [],
   "source": [
    "def extract_sample(complex_data, sample_idx):\n",
    "    \"\"\"Extract a single sample from the combinatorial complex saved by InMemoryDataset\"\"\"\n",
    "    \n",
    "    # Check if this is the saved format (tuple with merged data and slices)\n",
    "    if isinstance(complex_data, tuple) and len(complex_data) >= 2:\n",
    "        # InMemoryDataset format: (merged_data, slices, class_type)\n",
    "        merged_data = complex_data[0]  # The actual merged tensors\n",
    "        slices = complex_data[1]       # The slice boundaries\n",
    "        \n",
    "        # Get slice boundaries for this sample\n",
    "        start_node = slices['pos'][sample_idx]\n",
    "        end_node = slices['pos'][sample_idx + 1]\n",
    "        \n",
    "        start_edge = slices['cells_1'][sample_idx] \n",
    "        end_edge = slices['cells_1'][sample_idx + 1]\n",
    "        \n",
    "        # Extract the sample's data from merged tensors\n",
    "        sample_nodes = merged_data['cells_0'][start_node:end_node]\n",
    "        sample_edges = merged_data['cells_1'][start_edge:end_edge]\n",
    "        sample_pos = merged_data['pos'][start_node:end_node]\n",
    "        sample_features = merged_data['x_0'][start_node:end_node]\n",
    "        \n",
    "        return {\n",
    "            'nodes': sample_nodes,\n",
    "            'edges': sample_edges, \n",
    "            'positions': sample_pos,\n",
    "            'features': sample_features,\n",
    "            'target': merged_data['y'][sample_idx],\n",
    "            'id': merged_data['id'][sample_idx] if 'id' in merged_data else f'sample_{sample_idx}'\n",
    "        }\n",
    "    \n",
    "    else:\n",
    "        # Fallback for other formats\n",
    "        print(\"Warning: Expected InMemoryDataset format (tuple with merged_data and slices)\")\n",
    "        return None"
   ]
  },
  {
   "cell_type": "code",
   "execution_count": 10,
   "id": "b1782fb0",
   "metadata": {},
   "outputs": [],
   "source": [
    "graph1 = extract_sample(no_cross_graphs, 0)"
   ]
  },
  {
   "cell_type": "code",
   "execution_count": 13,
   "id": "a65a2644",
   "metadata": {},
   "outputs": [],
   "source": [
    "def visualize_sample(sample, mode=\"3d\"):\n",
    "    \"\"\"\n",
    "    Visualize a single sample extracted from extract_sample function\n",
    "    \n",
    "    Args:\n",
    "        sample: Output from extract_sample function\n",
    "        mode: \"3d\" or \"2d\" visualization\n",
    "    \"\"\"\n",
    "    import matplotlib.pyplot as plt\n",
    "    import numpy as np\n",
    "    \n",
    "    if sample is None:\n",
    "        print(\"No sample data to visualize\")\n",
    "        return\n",
    "    \n",
    "    # Get positions\n",
    "    pos = sample['positions']\n",
    "    if pos.dim() == 2 and pos.size(1) >= 2:\n",
    "        # Use first 2 dimensions for 2D plot\n",
    "        x, y = pos[:, 0].cpu().numpy(), pos[:, 1].cpu().numpy()\n",
    "        \n",
    "        # Create plot\n",
    "        fig, ax = plt.subplots(1, 1, figsize=(10, 8))\n",
    "        ax.set_title(f'Sample: {sample[\"id\"]}')\n",
    "        \n",
    "        # Plot nodes\n",
    "        ax.scatter(x, y, c='blue', s=50, alpha=0.7, label='Nodes')\n",
    "        \n",
    "        # Plot edges if available\n",
    "        if 'edges' in sample and sample['edges'].numel() > 0:\n",
    "            edges = sample['edges'].cpu().numpy()\n",
    "            # Check the shape of edges tensor\n",
    "            print(f\"Edges tensor shape: {edges.shape}\")\n",
    "            \n",
    "            if edges.ndim == 2 and edges.shape[1] >= 2:\n",
    "                # Edges is a 2D tensor with [num_edges, 2] shape\n",
    "                for i in range(edges.shape[0]):\n",
    "                    start_idx, end_idx = int(edges[i, 0]), int(edges[i, 1])\n",
    "                    if start_idx < len(x) and end_idx < len(x):\n",
    "                        ax.plot([x[start_idx], x[end_idx]], [y[start_idx], y[end_idx]], \n",
    "                               'gray', alpha=0.5, linewidth=1)\n",
    "            else:\n",
    "                print(f\"Unexpected edges format: {edges.shape}\")\n",
    "        \n",
    "        ax.set_xlabel('X')\n",
    "        ax.set_ylabel('Y')\n",
    "        ax.legend()\n",
    "        ax.grid(True, alpha=0.3)\n",
    "        \n",
    "        plt.tight_layout()\n",
    "        plt.show()\n",
    "        \n",
    "    else:\n",
    "        print(f\"Cannot visualize: positions shape is {tuple(pos.shape)}\")"
   ]
  },
  {
   "cell_type": "code",
   "execution_count": 14,
   "id": "b1ced737",
   "metadata": {},
   "outputs": [
    {
     "name": "stdout",
     "output_type": "stream",
     "text": [
      "Edges tensor shape: (676,)\n",
      "Unexpected edges format: (676,)\n"
     ]
    },
    {
     "data": {
      "image/png": "[encoded data removed]",
      "text/plain": [
       "<Figure size 1000x800 with 1 Axes>"
      ]
     },
     "metadata": {},
     "output_type": "display_data"
    }
   ],
   "source": [
    "visualize_sample(graph1)"
   ]
  },
  {
   "cell_type": "code",
   "execution_count": 15,
   "id": "02ebb86a",
   "metadata": {},
   "outputs": [],
   "source": [
    "def inspect_sample(sample):\n",
    "    \"\"\"\n",
    "    Print detailed information about a sample extracted from extract_sample function\n",
    "    \n",
    "    Args:\n",
    "        sample: Output from extract_sample function\n",
    "    \"\"\"\n",
    "    if sample is None:\n",
    "        print(\"No sample data to inspect\")\n",
    "        return\n",
    "    \n",
    "    print(f\"=== Sample Inspection ===\")\n",
    "    print(f\"Sample ID: {sample['id']}\")\n",
    "    print(f\"Target value: {sample['target']}\")\n",
    "    print()\n",
    "    \n",
    "    print(\"=== Tensor Shapes ===\")\n",
    "    for key, value in sample.items():\n",
    "        if isinstance(value, torch.Tensor):\n",
    "            print(f\"{key:12}: {tuple(value.shape)}\")\n",
    "        else:\n",
    "            print(f\"{key:12}: {type(value)} (length: {len(value) if hasattr(value, '__len__') else 'N/A'})\")\n",
    "    \n",
    "    print()\n",
    "    print(\"=== What Each Tensor Represents ===\")\n",
    "    tensor_descriptions = {\n",
    "        'nodes': '0-cells (atoms/nodes) - indices into the global cell structure',\n",
    "        'edges': '1-cells (bonds/edges) - indices into the global cell structure', \n",
    "        'positions': '3D coordinates of atoms (x, y, z)',\n",
    "        'features': 'Node features (atomic properties, hybridization, etc.)',\n",
    "        'target': 'Binding affinity value (-logAffi)',\n",
    "        'id': 'Unique identifier for this protein-ligand complex'\n",
    "    }\n",
    "    \n",
    "    for key, description in tensor_descriptions.items():\n",
    "        if key in sample:\n",
    "            print(f\"{key:12}: {description}\")\n",
    "    \n",
    "    print()\n",
    "    print(\"=== Sample Statistics ===\")\n",
    "    if 'positions' in sample:\n",
    "        pos = sample['positions']\n",
    "        print(f\"Number of atoms: {pos.size(0)}\")\n",
    "        if pos.size(1) >= 3:\n",
    "            print(f\"Position dimensions: {pos.size(1)} (x, y, z coordinates)\")\n",
    "    \n",
    "    if 'features' in sample:\n",
    "        feat = sample['features']\n",
    "        print(f\"Feature dimensions: {feat.size(1)} (atomic properties)\")\n",
    "    \n",
    "    if 'edges' in sample and sample['edges'].numel() > 0:\n",
    "        edges = sample['edges']\n",
    "        print(f\"Number of edges: {edges.size(0)}\")\n",
    "        if edges.ndim == 2:\n",
    "            print(f\"Edge format: [num_edges, {edges.size(1)}]\")"
   ]
  },
  {
   "cell_type": "code",
   "execution_count": 16,
   "id": "cc8c13de",
   "metadata": {},
   "outputs": [
    {
     "name": "stdout",
     "output_type": "stream",
     "text": [
      "=== Sample Inspection ===\n",
      "Sample ID: CHEMBL1075024_CHEMBL237449\n",
      "Target value: 5.46999979019165\n",
      "\n",
      "=== Tensor Shapes ===\n",
      "nodes       : (366,)\n",
      "edges       : (676,)\n",
      "positions   : (366, 3)\n",
      "features    : (366, 14)\n",
      "target      : ()\n",
      "id          : <class 'str'> (length: 26)\n",
      "\n",
      "=== What Each Tensor Represents ===\n",
      "nodes       : 0-cells (atoms/nodes) - indices into the global cell structure\n",
      "edges       : 1-cells (bonds/edges) - indices into the global cell structure\n",
      "positions   : 3D coordinates of atoms (x, y, z)\n",
      "features    : Node features (atomic properties, hybridization, etc.)\n",
      "target      : Binding affinity value (-logAffi)\n",
      "id          : Unique identifier for this protein-ligand complex\n",
      "\n",
      "=== Sample Statistics ===\n",
      "Number of atoms: 366\n",
      "Position dimensions: 3 (x, y, z coordinates)\n",
      "Feature dimensions: 14 (atomic properties)\n",
      "Number of edges: 676\n"
     ]
    }
   ],
   "source": [
    "inspect_sample(graph1)"
   ]
  },
  {
   "cell_type": "code",
   "execution_count": 20,
   "id": "315b2975-a50a-4505-821f-cf74b97412db",
   "metadata": {},
   "outputs": [
    {
     "name": "stdout",
     "output_type": "stream",
     "text": [
      "137525\n"
     ]
    }
   ],
   "source": [
    "index = pd.read_csv(\"/rds/general/user/kgb24/ephemeral/BindingNetv2/processed/indexes/Index_BindingNetv2_pockets_subset_20p.csv\")\n",
    "print(len(index))"
   ]
  },
  {
   "cell_type": "code",
   "execution_count": 22,
   "id": "07a13856-2470-409d-bfa5-76396d782d94",
   "metadata": {},
   "outputs": [
    {
     "name": "stdout",
     "output_type": "stream",
     "text": [
      "200\n"
     ]
    }
   ],
   "source": [
    "debug_set = index.tail(200)\n",
    "print(len(debug_set))"
   ]
  },
  {
   "cell_type": "code",
   "execution_count": 23,
   "id": "1ae5dfae-d3e2-49ac-9800-882b3a35dd4d",
   "metadata": {},
   "outputs": [],
   "source": [
    "output_path = \"/rds/general/user/kgb24/ephemeral/BindingNetv2/processed/indexes/debug_BindingNetv2_pockets_subset_20p.csv\"\n",
    "debug_set.to_csv(output_path, index=False)"
   ]
  },
  {
   "cell_type": "code",
   "execution_count": 30,
   "id": "d544c710-939b-43b3-8412-4b560338331f",
   "metadata": {},
   "outputs": [
    {
     "name": "stdout",
     "output_type": "stream",
     "text": [
      "Train: (95772,) [3 1 2 8 5] ... [137518 137505 137524 137519 137506]\n",
      "Val: (20883,) [ 4 10 20 24 29] ... [137498 137503 137511 137507 137515]\n",
      "Test: (20856,) [ 0  6 14 21 26] ... [137499 137495 137523 137517 137522]\n"
     ]
    }
   ],
   "source": [
    "train_ind = np.load(\"/rds/general/user/kgb24/ephemeral/BindingNetv2/processed/splits/subset_20p/train_indices.npy\")\n",
    "val_ind = np.load(\"/rds/general/user/kgb24/ephemeral/BindingNetv2/processed/splits/subset_20p/val_indices.npy\")\n",
    "test_ind = np.load(\"/rds/general/user/kgb24/ephemeral/BindingNetv2/processed/splits/subset_20p/test_indices.npy\")\n",
    "print(\"Train:\", train_ind.shape, train_ind[:5], \"...\", train_ind[-5:])\n",
    "print(\"Val:\", val_ind.shape, val_ind[:5], \"...\", val_ind[-5:])\n",
    "print(\"Test:\", test_ind.shape, test_ind[:5], \"...\", test_ind[-5:])"
   ]
  },
  {
   "cell_type": "code",
   "execution_count": 31,
   "id": "cbb36255-735c-4137-9e65-f57a4b54a55a",
   "metadata": {},
   "outputs": [
    {
     "name": "stdout",
     "output_type": "stream",
     "text": [
      "Train: (140,) [0 1 2 3 4] ... [135 136 137 138 139]\n",
      "Val: (30,) [140 141 142 143 144] ... [165 166 167 168 169]\n",
      "Test: (30,) [170 171 172 173 174] ... [195 196 197 198 199]\n"
     ]
    }
   ],
   "source": [
    "# Create an array of indices\n",
    "n_samples = len(debug_set)\n",
    "indices = np.arange(n_samples)\n",
    "\n",
    "# Compute split sizes\n",
    "n_train = int(0.7 * n_samples)   # 70%\n",
    "n_val   = int(0.15 * n_samples)  # 15%\n",
    "# The rest goes to test\n",
    "n_test  = n_samples - n_train - n_val\n",
    "\n",
    "# Slice into splits\n",
    "train_index = indices[:n_train]\n",
    "val_index   = indices[n_train:n_train+n_val]\n",
    "test_index  = indices[n_train+n_val:]\n",
    "\n",
    "print(\"Train:\", train_index.shape, train_index[:5], \"...\", train_index[-5:])\n",
    "print(\"Val:\", val_index.shape, val_index[:5], \"...\", val_index[-5:])\n",
    "print(\"Test:\", test_index.shape, test_index[:5], \"...\", test_index[-5:])"
   ]
  },
  {
   "cell_type": "code",
   "execution_count": 32,
   "id": "8fee5890-f074-4716-aa15-62e04d00f17c",
   "metadata": {},
   "outputs": [],
   "source": [
    "index_output_path = \"/rds/general/user/kgb24/ephemeral/BindingNetv2/processed/splits/debug/\"\n",
    "np.save(index_output_path + 'train_indices.npy', train_index)\n",
    "np.save(index_output_path + 'val_indices.npy', train_index)\n",
    "np.save(index_output_path + 'test_indices.npy', train_index)"
   ]
  },
  {
   "cell_type": "code",
   "execution_count": null,
   "id": "90fce01f-1985-40d6-8e67-43369d9a6196",
   "metadata": {},
   "outputs": [],
   "source": []
  }
 ],
 "metadata": {
  "kernelspec": {
   "display_name": "etnn-ipykernel",
   "language": "python",
   "name": "etnn-ipykernel"
  },
  "language_info": {
   "codemirror_mode": {
    "name": "ipython",
    "version": 3
   },
   "file_extension": ".py",
   "mimetype": "text/x-python",
   "name": "python",
   "nbconvert_exporter": "python",
   "pygments_lexer": "ipython3",
   "version": "3.10.18"
  }
 },
 "nbformat": 4,
 "nbformat_minor": 5
}
